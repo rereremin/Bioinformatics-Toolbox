{
 "cells": [
  {
   "cell_type": "code",
   "execution_count": 3,
   "id": "ff99512d",
   "metadata": {},
   "outputs": [],
   "source": [
    "# ! pip install -r requirements.txt"
   ]
  },
  {
   "cell_type": "code",
   "execution_count": 1,
   "id": "bc8d715b-2ff0-4645-bb13-d516b35931ee",
   "metadata": {},
   "outputs": [
    {
     "name": "stdout",
     "output_type": "stream",
     "text": [
      "40.0\n"
     ]
    }
   ],
   "source": [
    "from sklearn.datasets import make_classification\n",
    "import time\n",
    "from Bio import Entrez\n",
    "from bioinformatics_toolbox import DNASequence, RNASequence, AminoAcidSequence\n",
    "from bio_files_processor import OpenFasta\n",
    "from custom_random_forest import RandomForestClassifierCustom\n"
   ]
  },
  {
   "cell_type": "markdown",
   "id": "b2ef84aa-184c-4f6d-aaa3-7cdd03fb7f4e",
   "metadata": {},
   "source": [
    "## RandomForestClassifierCustom"
   ]
  },
  {
   "cell_type": "code",
   "execution_count": 13,
   "id": "1a2a043c-9f7d-4e74-ad47-5d6581ca4da2",
   "metadata": {},
   "outputs": [],
   "source": [
    "X, y = make_classification(n_samples=1000000)"
   ]
  },
  {
   "cell_type": "code",
   "execution_count": 14,
   "id": "564eb6c9-f36a-44cd-be7e-c869b317fb0d",
   "metadata": {},
   "outputs": [],
   "source": [
    "random_forest = RandomForestClassifierCustom(max_depth=20, n_estimators=50, \n",
    "                                             max_features=2, random_state=42)"
   ]
  },
  {
   "cell_type": "code",
   "execution_count": 15,
   "id": "a083618f-3d5e-4d46-a8c1-0c6461663f9f",
   "metadata": {},
   "outputs": [
    {
     "name": "stdout",
     "output_type": "stream",
     "text": [
      "CPU times: user 346 ms, sys: 900 ms, total: 1.25 s\n",
      "Wall time: 5min 54s\n"
     ]
    }
   ],
   "source": [
    "%%time\n",
    "fit_1_job = random_forest.fit(X, y, n_jobs = 1)"
   ]
  },
  {
   "cell_type": "code",
   "execution_count": 16,
   "id": "0792f34c-54bb-49ee-b384-327a8aac4eee",
   "metadata": {},
   "outputs": [
    {
     "name": "stdout",
     "output_type": "stream",
     "text": [
      "CPU times: user 964 ms, sys: 2.82 s, total: 3.79 s\n",
      "Wall time: 3min 28s\n"
     ]
    }
   ],
   "source": [
    "%%time\n",
    "fit_2_jobs = random_forest.fit(X, y, n_jobs = 2)"
   ]
  },
  {
   "cell_type": "code",
   "execution_count": 17,
   "id": "d42a10a4-3e54-4466-b558-45956f688904",
   "metadata": {},
   "outputs": [
    {
     "name": "stdout",
     "output_type": "stream",
     "text": [
      "CPU times: user 1.3 s, sys: 2.69 s, total: 3.99 s\n",
      "Wall time: 15.3 s\n"
     ]
    }
   ],
   "source": [
    "%%time\n",
    "predict_1_job = random_forest.predict(X, n_jobs=1)"
   ]
  },
  {
   "cell_type": "code",
   "execution_count": 18,
   "id": "ade4f19d-a03c-4e77-8a7d-a9e0df861cba",
   "metadata": {},
   "outputs": [
    {
     "name": "stdout",
     "output_type": "stream",
     "text": [
      "CPU times: user 1.58 s, sys: 3.76 s, total: 5.35 s\n",
      "Wall time: 10.9 s\n"
     ]
    }
   ],
   "source": [
    "%%time\n",
    "predict_2_jobs = random_forest.predict(X, n_jobs=2)"
   ]
  },
  {
   "cell_type": "code",
   "execution_count": 19,
   "id": "5fb2a1f6-4179-4fc0-9188-7ca5455cc30e",
   "metadata": {},
   "outputs": [
    {
     "name": "stdout",
     "output_type": "stream",
     "text": [
      "True\n"
     ]
    }
   ],
   "source": [
    "result = all(x == y for x, y in zip(predict_1_job, predict_2_jobs))\n",
    "print(result)"
   ]
  },
  {
   "cell_type": "markdown",
   "id": "48cd2351-95d5-4eec-8d98-d86189a9c694",
   "metadata": {},
   "source": [
    "## AminoAcidSequence/DNASequence/RNASequence"
   ]
  },
  {
   "cell_type": "markdown",
   "id": "6ef12b98-be53-436b-8e12-b5e241826911",
   "metadata": {},
   "source": [
    "##### DNASequence"
   ]
  },
  {
   "cell_type": "code",
   "execution_count": 20,
   "id": "886b5b90-9c69-4dae-a526-fde7a5bb4f95",
   "metadata": {},
   "outputs": [
    {
     "name": "stdout",
     "output_type": "stream",
     "text": [
      "DNA sequence GC-content: 37.5\n",
      "RNA sequence GC-content: 50.0\n"
     ]
    }
   ],
   "source": [
    "dna_sequence = DNASequence(\"ATTTTCGC\", \"DNA\")\n",
    "rna_sequence = RNASequence(\"AUCGUCUC\", \"RNA\")\n",
    "print(f\"DNA sequence GC-content: {dna_sequence.gc_content()}\")\n",
    "print(f\"RNA sequence GC-content: {rna_sequence.gc_content()}\")"
   ]
  },
  {
   "cell_type": "markdown",
   "id": "9d8fda82-6fa6-4987-bca0-f55bc5a5b3c5",
   "metadata": {},
   "source": [
    "##### RNASequence"
   ]
  },
  {
   "cell_type": "code",
   "execution_count": 23,
   "id": "3e692e12-bee1-449d-b1b8-1b93fd4ac84d",
   "metadata": {},
   "outputs": [
    {
     "name": "stdout",
     "output_type": "stream",
     "text": [
      "Protein sequence: MKWRPT*\n"
     ]
    }
   ],
   "source": [
    "rna_sequence = RNASequence(\"AUGAAAUGGCGCCCCACCUAA\", \"RNA\")\n",
    "protein = rna_sequence.translation()\n",
    "print(\"Protein sequence:\", protein)"
   ]
  },
  {
   "cell_type": "markdown",
   "id": "f7a96709-c517-44ff-bb57-20799a6c0ec6",
   "metadata": {},
   "source": [
    "##### AminoAcidSequence"
   ]
  },
  {
   "cell_type": "code",
   "execution_count": 25,
   "id": "d3921047-01c2-4708-b192-08f531af789b",
   "metadata": {},
   "outputs": [
    {
     "name": "stdout",
     "output_type": "stream",
     "text": [
      "Amino Acid hydrophobicity: 54.545%\n"
     ]
    }
   ],
   "source": [
    "amino_acid_sequence = AminoAcidSequence(\"ACGCGIILKLV\", \"protein\")\n",
    "hydrophobicity = amino_acid_sequence.compute_hydrophobicity()\n",
    "print(f\"Amino Acid hydrophobicity: {hydrophobicity}%\")"
   ]
  },
  {
   "cell_type": "markdown",
   "id": "3685ebf0-b50c-4b07-bac6-78a69811adab",
   "metadata": {},
   "source": [
    "## OpenFasta"
   ]
  },
  {
   "cell_type": "code",
   "execution_count": 5,
   "id": "222bf920-da2e-4ee0-bc83-d49239613fa2",
   "metadata": {},
   "outputs": [
    {
     "name": "stdout",
     "output_type": "stream",
     "text": [
      "0123 5S_rRNA NODE_272_length_223_cov_0.720238:18-129(+)\n",
      "ACGGCCATACTTTGAAAGCACCGCATCCCGGACTTCTTTGAAAGCACCGCATCCCTGAAAGCACCGCATCTTTGAAAGCACCGCATCCCCCCGTCCGATC...\n",
      "\n",
      "4567 16S_rRNA NODE_80_length_720_cov_1.094737:313-719(+)\n",
      "TTGGCTTCTTAGAGGGATGCCCTTAGATGTTCTGGGCCGCACGCGCGCTACACTTTGGCTTCTTAGAGGGATGCCCTTAGATGTTCTGGGCCGCACGCGC...\n",
      "\n",
      "1111 16S_rRNA NODE_1_length_2558431_cov_75.185164:2153860-2155398(+)\n",
      "TTGAAGAGCTGTAGCTTAACCTTCGGGAGGGCGAGTCGTAAGGCGGCAGGCCTAACACATGCAAGTCGAACGGTAACAGGAAACAGCGCTGACGAGTGGG...\n",
      "\n",
      "8910 16S_rRNA NODE_1_length_2558431_cov_75.185164:793941-795479(-)\n",
      "TTGAAGAGTTTGATAGGAAACAGCTTGCTGTTTCGCTGACGAGTGGGAAGTAGGTAGGGTAACAAGGTAACCGTAGGGGAACCTGCGGTTGGATCGAAGT...\n",
      "\n",
      "1112 16S_rRNA NODE_4_length_428221_cov_75.638017:281055-282593(-)\n",
      "CAGCTTAACCTTCGGGAGGGCGCTTACCACTTTGTGATTCATGACTGGGGTGAAGTCGTAACAAGGTAACCGTAGGGGAACCTGCGGTTGGATCACCTCC...\n",
      "\n"
     ]
    }
   ],
   "source": [
    "with OpenFasta('data/test.fasta') as fasta_file:\n",
    "    print(fasta_file.read_record())\n",
    "    print(fasta_file.read_record())\n",
    "    print(fasta_file.read_record())\n",
    "    print(fasta_file.read_record())\n",
    "    print(fasta_file.read_record())\n",
    "\n"
   ]
  },
  {
   "cell_type": "code",
   "execution_count": 6,
   "id": "91627fc7-edd1-4aa6-9a53-30cc2cc588f2",
   "metadata": {},
   "outputs": [
    {
     "name": "stdout",
     "output_type": "stream",
     "text": [
      "[0123 5S_rRNA NODE_272_length_223_cov_0.720238:18-129(+)\n",
      "ACGGCCATACTTTGAAAGCACCGCATCCCGGACTTCTTTGAAAGCACCGCATCCCTGAAAGCACCGCATCTTTGAAAGCACCGCATCCCCCCGTCCGATC...\n",
      ", 4567 16S_rRNA NODE_80_length_720_cov_1.094737:313-719(+)\n",
      "TTGGCTTCTTAGAGGGATGCCCTTAGATGTTCTGGGCCGCACGCGCGCTACACTTTGGCTTCTTAGAGGGATGCCCTTAGATGTTCTGGGCCGCACGCGC...\n",
      ", 1111 16S_rRNA NODE_1_length_2558431_cov_75.185164:2153860-2155398(+)\n",
      "TTGAAGAGCTGTAGCTTAACCTTCGGGAGGGCGAGTCGTAAGGCGGCAGGCCTAACACATGCAAGTCGAACGGTAACAGGAAACAGCGCTGACGAGTGGG...\n",
      ", 8910 16S_rRNA NODE_1_length_2558431_cov_75.185164:793941-795479(-)\n",
      "TTGAAGAGTTTGATAGGAAACAGCTTGCTGTTTCGCTGACGAGTGGGAAGTAGGTAGGGTAACAAGGTAACCGTAGGGGAACCTGCGGTTGGATCGAAGT...\n",
      ", 1112 16S_rRNA NODE_4_length_428221_cov_75.638017:281055-282593(-)\n",
      "CAGCTTAACCTTCGGGAGGGCGCTTACCACTTTGTGATTCATGACTGGGGTGAAGTCGTAACAAGGTAACCGTAGGGGAACCTGCGGTTGGATCACCTCC...\n",
      "]\n"
     ]
    }
   ],
   "source": [
    "with OpenFasta('data/test.fasta') as fasta_file:\n",
    "    records = fasta_file.read_records()\n",
    "    print(records)"
   ]
  },
  {
   "cell_type": "markdown",
   "id": "8bf5e418-cd04-49f0-8add-7638dcc44f3f",
   "metadata": {},
   "source": [
    "### Tests"
   ]
  },
  {
   "cell_type": "code",
   "execution_count": 2,
   "id": "b07c4a94-e137-4d23-9ba4-d0421243400a",
   "metadata": {},
   "outputs": [
    {
     "name": "stdout",
     "output_type": "stream",
     "text": [
      "============================= test session starts ==============================\n",
      "platform darwin -- Python 3.8.8, pytest-8.2.0, pluggy-1.5.0\n",
      "rootdir: /Users/nikitazherko/Desktop/BI/learning/Python/class_18\n",
      "plugins: anyio-2.2.0\n",
      "collected 8 items\n",
      "\n",
      "test_bioinformatics_toolbox.py ........                                  [100%]\n",
      "\n",
      "============================== 8 passed in 0.03s ===============================\n"
     ]
    }
   ],
   "source": [
    "%run -m pytest"
   ]
  }
 ],
 "metadata": {
  "kernelspec": {
   "display_name": "Python 3 (ipykernel)",
   "language": "python",
   "name": "python3"
  },
  "language_info": {
   "codemirror_mode": {
    "name": "ipython",
    "version": 3
   },
   "file_extension": ".py",
   "mimetype": "text/x-python",
   "name": "python",
   "nbconvert_exporter": "python",
   "pygments_lexer": "ipython3",
   "version": "3.8.8"
  }
 },
 "nbformat": 4,
 "nbformat_minor": 5
}
