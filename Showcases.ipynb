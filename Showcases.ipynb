{
 "cells": [
  {
   "cell_type": "code",
   "execution_count": 6,
   "id": "0958ea44",
   "metadata": {},
   "outputs": [
    {
     "name": "stdout",
     "output_type": "stream",
     "text": [
      "Package                            Version\n",
      "---------------------------------- -------------------\n",
      "alabaster                          0.7.12\n",
      "anaconda-client                    1.7.2\n",
      "anaconda-navigator                 2.0.3\n",
      "anaconda-project                   0.9.1\n",
      "anyio                              2.2.0\n",
      "appdirs                            1.4.4\n",
      "applaunchservices                  0.2.1\n",
      "appnope                            0.1.2\n",
      "appscript                          1.1.2\n",
      "argh                               0.26.2\n",
      "argon2-cffi                        20.1.0\n",
      "asn1crypto                         1.4.0\n",
      "astroid                            2.5\n",
      "astropy                            4.2.1\n",
      "async-generator                    1.10\n",
      "atomicwrites                       1.4.0\n",
      "attrs                              21.4.0\n",
      "autograd                           1.6.2\n",
      "autopep8                           1.5.6\n",
      "Babel                              2.9.0\n",
      "backcall                           0.2.0\n",
      "backports.functools-lru-cache      1.6.4\n",
      "backports.shutil-get-terminal-size 1.0.0\n",
      "backports.tempfile                 1.0\n",
      "backports.weakref                  1.0.post1\n",
      "beautifulsoup4                     4.9.3\n",
      "biopython                          1.77\n",
      "bitarray                           1.9.2\n",
      "bkcharts                           0.2\n",
      "black                              19.10b0\n",
      "bleach                             3.3.0\n",
      "bokeh                              2.3.2\n",
      "boost-histogram                    1.4.0\n",
      "boto                               2.49.0\n",
      "Bottleneck                         1.3.2\n",
      "brotlipy                           0.7.0\n",
      "certifi                            2020.12.5\n",
      "cffi                               1.14.5\n",
      "chardet                            4.0.0\n",
      "chembl-webresource-client          0.10.8\n",
      "click                              7.1.2\n",
      "cloudpickle                        1.6.0\n",
      "clyent                             1.2.2\n",
      "colorama                           0.4.4\n",
      "conda                              4.10.1\n",
      "conda-build                        3.21.4\n",
      "conda-content-trust                0+unknown\n",
      "conda-package-handling             2.2.0\n",
      "conda-package-streaming            0.9.0\n",
      "conda-repo-cli                     1.0.4\n",
      "conda-token                        0.4.0\n",
      "conda-verify                       3.4.2\n",
      "contextlib2                        0.6.0.post1\n",
      "cryptography                       3.4.7\n",
      "cycler                             0.10.0\n",
      "Cython                             0.29.23\n",
      "cytoolz                            0.11.0\n",
      "dask                               2021.4.0\n",
      "decorator                          5.0.6\n",
      "defusedxml                         0.7.1\n",
      "diff-match-patch                   20200713\n",
      "distributed                        2021.4.0\n",
      "docutils                           0.17\n",
      "easydict                           1.11\n",
      "entrypoints                        0.3\n",
      "et-xmlfile                         1.0.1\n",
      "ete3                               3.1.3\n",
      "fastcache                          1.1.0\n",
      "filelock                           3.0.12\n",
      "flake8                             3.9.0\n",
      "Flask                              1.1.2\n",
      "fsspec                             0.9.0\n",
      "future                             0.18.2\n",
      "gevent                             21.1.2\n",
      "glob2                              0.7\n",
      "gmpy2                              2.0.8\n",
      "greenlet                           1.0.0\n",
      "h5py                               2.10.0\n",
      "HeapDict                           1.0.1\n",
      "hist                               2.7.2\n",
      "histoprint                         2.4.0\n",
      "html5lib                           1.1\n",
      "idna                               2.10\n",
      "imageio                            2.9.0\n",
      "imagesize                          1.2.0\n",
      "importlib-metadata                 3.10.0\n",
      "iniconfig                          1.1.1\n",
      "intervaltree                       3.1.0\n",
      "ipykernel                          5.3.4\n",
      "ipython                            7.22.0\n",
      "ipython-genutils                   0.2.0\n",
      "ipywidgets                         7.6.3\n",
      "isort                              5.8.0\n",
      "itsdangerous                       2.1.2\n",
      "jdcal                              1.4.1\n",
      "jedi                               0.17.2\n",
      "Jinja2                             2.11.3\n",
      "joblib                             1.3.2\n",
      "json5                              0.9.5\n",
      "jsonschema                         3.2.0\n",
      "jupyter                            1.0.0\n",
      "jupyter-client                     6.1.12\n",
      "jupyter-console                    6.4.0\n",
      "jupyter-core                       4.7.1\n",
      "jupyter-packaging                  0.7.12\n",
      "jupyter-server                     1.4.1\n",
      "jupyterlab                         3.0.14\n",
      "jupyterlab-pygments                0.1.2\n",
      "jupyterlab-server                  2.4.0\n",
      "jupyterlab-widgets                 1.0.0\n",
      "keyring                            22.3.0\n",
      "kiwisolver                         1.3.1\n",
      "lazy-object-proxy                  1.6.0\n",
      "lazypredict                        0.2.12\n",
      "libarchive-c                       2.9\n",
      "lightgbm                           4.3.0\n",
      "llvmlite                           0.36.0\n",
      "locket                             0.2.1\n",
      "lxml                               4.6.3\n",
      "MarkupSafe                         1.1.1\n",
      "matplotlib                         3.3.4\n",
      "mccabe                             0.6.1\n",
      "mistune                            0.8.4\n",
      "mkl-fft                            1.3.0\n",
      "mkl-random                         1.2.1\n",
      "mkl-service                        2.3.0\n",
      "mock                               4.0.3\n",
      "more-itertools                     8.7.0\n",
      "mpmath                             1.2.1\n",
      "msgpack                            1.0.2\n",
      "multipledispatch                   0.6.0\n",
      "muscle                             0.0.4\n",
      "mypy-extensions                    0.4.3\n",
      "navigator-updater                  0.2.1\n",
      "nbclassic                          0.2.6\n",
      "nbclient                           0.5.3\n",
      "nbconvert                          6.0.7\n",
      "nbformat                           5.1.3\n",
      "nest-asyncio                       1.5.1\n",
      "networkx                           2.5\n",
      "nltk                               3.6.1\n",
      "nose                               1.3.7\n",
      "notebook                           6.3.0\n",
      "numba                              0.53.1\n",
      "numdifftools                       0.9.41\n",
      "numexpr                            2.7.3\n",
      "numpy                              1.20.1\n",
      "numpydoc                           1.1.0\n",
      "olefile                            0.46\n",
      "openpyxl                           3.0.7\n",
      "packaging                          20.9\n",
      "pandas                             1.2.4\n",
      "pandocfilters                      1.4.3\n",
      "parso                              0.7.0\n",
      "partd                              1.2.0\n",
      "path                               15.1.2\n",
      "pathlib2                           2.3.5\n",
      "pathspec                           0.7.0\n",
      "patsy                              0.5.1\n",
      "pep8                               1.7.1\n",
      "pexpect                            4.8.0\n",
      "pickleshare                        0.7.5\n",
      "Pillow                             8.2.0\n",
      "pip                                21.0.1\n",
      "pkginfo                            1.7.0\n",
      "pluggy                             0.13.1\n",
      "ply                                3.11\n",
      "prometheus-client                  0.10.1\n",
      "prompt-toolkit                     3.0.17\n",
      "psutil                             5.8.0\n",
      "ptyprocess                         0.7.0\n",
      "py                                 1.10.0\n",
      "pybedtools                         0.9.1\n",
      "pycodestyle                        2.6.0\n",
      "pycosat                            0.6.3\n",
      "pycparser                          2.20\n",
      "pycurl                             7.43.0.6\n",
      "pydocstyle                         6.0.0\n",
      "pyerfa                             1.7.3\n",
      "pyflakes                           2.2.0\n",
      "pygame                             2.0.1\n",
      "Pygments                           2.8.1\n",
      "pylint                             2.7.4\n",
      "pyls-black                         0.4.6\n",
      "pyls-spyder                        0.3.2\n",
      "pyodbc                             4.0.0-unsupported\n",
      "pyOpenSSL                          20.0.1\n",
      "pyparsing                          2.4.7\n",
      "pyrsistent                         0.17.3\n",
      "pysam                              0.22.0\n",
      "PySocks                            1.7.1\n",
      "pytest                             6.2.3\n",
      "python-dateutil                    2.8.1\n",
      "python-dotenv                      1.0.1\n",
      "python-jsonrpc-server              0.4.0\n",
      "python-language-server             0.36.2\n",
      "pytz                               2021.1\n",
      "PyWavelets                         1.1.1\n",
      "PyYAML                             5.4.1\n",
      "pyzmq                              20.0.0\n",
      "QDarkStyle                         2.8.1\n",
      "QtAwesome                          1.0.2\n",
      "qtconsole                          5.0.3\n",
      "QtPy                               1.9.0\n",
      "rdkit                              2023.9.4\n",
      "regex                              2021.4.4\n",
      "requests                           2.25.1\n",
      "requests-cache                     0.7.5\n",
      "rope                               0.18.0\n",
      "Rtree                              0.9.7\n",
      "ruamel-yaml-conda                  0.15.100\n",
      "scikit-image                       0.18.1\n",
      "scikit-learn                       1.3.2\n",
      "scipy                              1.6.2\n",
      "seaborn                            0.11.1\n",
      "Send2Trash                         1.5.0\n",
      "setuptools                         52.0.0.post20210125\n",
      "simplegeneric                      0.8.1\n",
      "singledispatch                     0.0.0\n",
      "six                                1.15.0\n",
      "sklearn                            0.0\n",
      "sniffio                            1.2.0\n",
      "snowballstemmer                    2.1.0\n",
      "sortedcollections                  2.1.0\n",
      "sortedcontainers                   2.3.0\n",
      "soupsieve                          2.2.1\n",
      "Sphinx                             4.0.1\n",
      "sphinxcontrib-applehelp            1.0.2\n",
      "sphinxcontrib-devhelp              1.0.2\n",
      "sphinxcontrib-htmlhelp             1.0.3\n",
      "sphinxcontrib-jsmath               1.0.1\n",
      "sphinxcontrib-qthelp               1.0.3\n",
      "sphinxcontrib-serializinghtml      1.1.4\n",
      "sphinxcontrib-websupport           1.2.4\n",
      "spyder                             4.2.5\n",
      "spyder-kernels                     1.10.2\n",
      "SQLAlchemy                         1.4.7\n",
      "statsmodels                        0.12.2\n",
      "sympy                              1.8\n",
      "tables                             3.6.1\n",
      "tblib                              1.7.0\n",
      "terminado                          0.9.4\n",
      "testpath                           0.4.4\n",
      "textdistance                       4.2.1\n",
      "threadpoolctl                      2.1.0\n",
      "three-merge                        0.1.1\n",
      "tifffile                           2020.10.1\n",
      "toml                               0.10.2\n",
      "toolz                              0.11.1\n",
      "torch                              2.2.1\n",
      "torchvision                        0.17.1\n",
      "tornado                            6.1\n",
      "tqdm                               4.59.0\n",
      "traitlets                          5.0.5\n",
      "typed-ast                          1.4.2\n",
      "typing-extensions                  4.10.0\n",
      "uhi                                0.4.0\n",
      "ujson                              4.0.2\n",
      "unicodecsv                         0.14.1\n",
      "url-normalize                      1.4.3\n",
      "urllib3                            1.26.4\n",
      "watchdog                           1.0.2\n",
      "wcwidth                            0.2.5\n",
      "webencodings                       0.5.1\n",
      "Werkzeug                           1.0.1\n",
      "wheel                              0.36.2\n",
      "widgetsnbextension                 3.5.1\n",
      "wrapt                              1.12.1\n",
      "wurlitzer                          2.1.0\n",
      "xgboost                            2.0.3\n",
      "xlrd                               2.0.1\n",
      "XlsxWriter                         1.3.8\n",
      "xlwings                            0.23.0\n",
      "xlwt                               1.3.0\n",
      "xmltodict                          0.13.0\n",
      "yapf                               0.31.0\n",
      "zict                               2.0.0\n",
      "zipp                               3.4.1\n",
      "zope.event                         4.5.0\n",
      "zope.interface                     5.3.0\n",
      "zstandard                          0.19.0\n"
     ]
    }
   ],
   "source": [
    "! pip list"
   ]
  },
  {
   "cell_type": "code",
   "execution_count": 1,
   "id": "ff99512d",
   "metadata": {},
   "outputs": [
    {
     "name": "stdout",
     "output_type": "stream",
     "text": [
      "Requirement already satisfied: beautifulsoup4==4.12.3 in /Users/nikitazherko/opt/anaconda3/lib/python3.8/site-packages (from -r requirements.txt (line 1)) (4.12.3)\n",
      "Requirement already satisfied: biopython==1.83 in /Users/nikitazherko/opt/anaconda3/lib/python3.8/site-packages (from -r requirements.txt (line 2)) (1.83)\n",
      "Requirement already satisfied: certifi==2024.2.2 in /Users/nikitazherko/opt/anaconda3/lib/python3.8/site-packages (from -r requirements.txt (line 3)) (2024.2.2)\n",
      "Requirement already satisfied: charset-normalizer==3.3.2 in /Users/nikitazherko/opt/anaconda3/lib/python3.8/site-packages (from -r requirements.txt (line 4)) (3.3.2)\n",
      "Requirement already satisfied: idna==3.7 in /Users/nikitazherko/opt/anaconda3/lib/python3.8/site-packages (from -r requirements.txt (line 5)) (3.7)\n",
      "Requirement already satisfied: iniconfig==2.0.0 in /Users/nikitazherko/opt/anaconda3/lib/python3.8/site-packages (from -r requirements.txt (line 6)) (2.0.0)\n",
      "Requirement already satisfied: joblib==1.4.0 in /Users/nikitazherko/opt/anaconda3/lib/python3.8/site-packages (from -r requirements.txt (line 7)) (1.4.0)\n",
      "Requirement already satisfied: numpy==1.20.1 in /Users/nikitazherko/opt/anaconda3/lib/python3.8/site-packages (from -r requirements.txt (line 8)) (1.20.1)\n",
      "Requirement already satisfied: packaging==24.0 in /Users/nikitazherko/opt/anaconda3/lib/python3.8/site-packages (from -r requirements.txt (line 9)) (24.0)\n",
      "Requirement already satisfied: pandas==1.2.4 in /Users/nikitazherko/opt/anaconda3/lib/python3.8/site-packages (from -r requirements.txt (line 10)) (1.2.4)\n",
      "Requirement already satisfied: pluggy==1.5.0 in /Users/nikitazherko/opt/anaconda3/lib/python3.8/site-packages (from -r requirements.txt (line 11)) (1.5.0)\n",
      "Requirement already satisfied: pytest==8.2.0 in /Users/nikitazherko/opt/anaconda3/lib/python3.8/site-packages (from -r requirements.txt (line 12)) (8.2.0)\n",
      "Requirement already satisfied: python-dateutil==2.9.0.post0 in /Users/nikitazherko/opt/anaconda3/lib/python3.8/site-packages (from -r requirements.txt (line 13)) (2.9.0.post0)\n",
      "Requirement already satisfied: python-dotenv==1.0.1 in /Users/nikitazherko/opt/anaconda3/lib/python3.8/site-packages (from -r requirements.txt (line 14)) (1.0.1)\n",
      "Requirement already satisfied: pytz==2024.1 in /Users/nikitazherko/opt/anaconda3/lib/python3.8/site-packages (from -r requirements.txt (line 15)) (2024.1)\n",
      "Requirement already satisfied: requests==2.31.0 in /Users/nikitazherko/opt/anaconda3/lib/python3.8/site-packages (from -r requirements.txt (line 16)) (2.31.0)\n",
      "Requirement already satisfied: scikit-learn==1.3.2 in /Users/nikitazherko/opt/anaconda3/lib/python3.8/site-packages (from -r requirements.txt (line 17)) (1.3.2)\n",
      "Requirement already satisfied: scipy==1.6.2 in /Users/nikitazherko/opt/anaconda3/lib/python3.8/site-packages (from -r requirements.txt (line 18)) (1.6.2)\n",
      "Requirement already satisfied: setuptools==68.2.2 in /Users/nikitazherko/opt/anaconda3/lib/python3.8/site-packages (from -r requirements.txt (line 19)) (68.2.2)\n",
      "Requirement already satisfied: six==1.16.0 in /Users/nikitazherko/opt/anaconda3/lib/python3.8/site-packages (from -r requirements.txt (line 20)) (1.16.0)\n",
      "Requirement already satisfied: soupsieve==2.5 in /Users/nikitazherko/opt/anaconda3/lib/python3.8/site-packages (from -r requirements.txt (line 21)) (2.5)\n",
      "Requirement already satisfied: threadpoolctl==3.4.0 in /Users/nikitazherko/opt/anaconda3/lib/python3.8/site-packages (from -r requirements.txt (line 22)) (3.4.0)\n",
      "Requirement already satisfied: tzdata==2024.1 in /Users/nikitazherko/opt/anaconda3/lib/python3.8/site-packages (from -r requirements.txt (line 23)) (2024.1)\n",
      "Requirement already satisfied: urllib3==2.2.1 in /Users/nikitazherko/opt/anaconda3/lib/python3.8/site-packages (from -r requirements.txt (line 24)) (2.2.1)\n",
      "Requirement already satisfied: wheel==0.41.2 in /Users/nikitazherko/opt/anaconda3/lib/python3.8/site-packages (from -r requirements.txt (line 25)) (0.41.2)\n",
      "Requirement already satisfied: tomli>=1 in /Users/nikitazherko/opt/anaconda3/lib/python3.8/site-packages (from pytest==8.2.0->-r requirements.txt (line 12)) (2.0.1)\n",
      "Requirement already satisfied: exceptiongroup>=1.0.0rc8 in /Users/nikitazherko/opt/anaconda3/lib/python3.8/site-packages (from pytest==8.2.0->-r requirements.txt (line 12)) (1.2.1)\n"
     ]
    }
   ],
   "source": [
    "! pip install -r requirements.txt"
   ]
  },
  {
   "cell_type": "code",
   "execution_count": 1,
   "id": "bc8d715b-2ff0-4645-bb13-d516b35931ee",
   "metadata": {},
   "outputs": [
    {
     "name": "stdout",
     "output_type": "stream",
     "text": [
      "40.0\n"
     ]
    }
   ],
   "source": [
    "from sklearn.datasets import make_classification\n",
    "import time\n",
    "from Bio import Entrez\n",
    "from bioinformatics_toolbox import DNASequence, RNASequence, AminoAcidSequence\n",
    "from bio_files_processor import OpenFasta\n",
    "from custom_random_forest import RandomForestClassifierCustom\n"
   ]
  },
  {
   "cell_type": "markdown",
   "id": "b2ef84aa-184c-4f6d-aaa3-7cdd03fb7f4e",
   "metadata": {},
   "source": [
    "## RandomForestClassifierCustom"
   ]
  },
  {
   "cell_type": "code",
   "execution_count": 13,
   "id": "1a2a043c-9f7d-4e74-ad47-5d6581ca4da2",
   "metadata": {},
   "outputs": [],
   "source": [
    "X, y = make_classification(n_samples=1000000)"
   ]
  },
  {
   "cell_type": "code",
   "execution_count": 14,
   "id": "564eb6c9-f36a-44cd-be7e-c869b317fb0d",
   "metadata": {},
   "outputs": [],
   "source": [
    "random_forest = RandomForestClassifierCustom(max_depth=20, n_estimators=50, \n",
    "                                             max_features=2, random_state=42)"
   ]
  },
  {
   "cell_type": "code",
   "execution_count": 15,
   "id": "a083618f-3d5e-4d46-a8c1-0c6461663f9f",
   "metadata": {},
   "outputs": [
    {
     "name": "stdout",
     "output_type": "stream",
     "text": [
      "CPU times: user 346 ms, sys: 900 ms, total: 1.25 s\n",
      "Wall time: 5min 54s\n"
     ]
    }
   ],
   "source": [
    "%%time\n",
    "fit_1_job = random_forest.fit(X, y, n_jobs = 1)"
   ]
  },
  {
   "cell_type": "code",
   "execution_count": 16,
   "id": "0792f34c-54bb-49ee-b384-327a8aac4eee",
   "metadata": {},
   "outputs": [
    {
     "name": "stdout",
     "output_type": "stream",
     "text": [
      "CPU times: user 964 ms, sys: 2.82 s, total: 3.79 s\n",
      "Wall time: 3min 28s\n"
     ]
    }
   ],
   "source": [
    "%%time\n",
    "fit_2_jobs = random_forest.fit(X, y, n_jobs = 2)"
   ]
  },
  {
   "cell_type": "code",
   "execution_count": 17,
   "id": "d42a10a4-3e54-4466-b558-45956f688904",
   "metadata": {},
   "outputs": [
    {
     "name": "stdout",
     "output_type": "stream",
     "text": [
      "CPU times: user 1.3 s, sys: 2.69 s, total: 3.99 s\n",
      "Wall time: 15.3 s\n"
     ]
    }
   ],
   "source": [
    "%%time\n",
    "predict_1_job = random_forest.predict(X, n_jobs=1)"
   ]
  },
  {
   "cell_type": "code",
   "execution_count": 18,
   "id": "ade4f19d-a03c-4e77-8a7d-a9e0df861cba",
   "metadata": {},
   "outputs": [
    {
     "name": "stdout",
     "output_type": "stream",
     "text": [
      "CPU times: user 1.58 s, sys: 3.76 s, total: 5.35 s\n",
      "Wall time: 10.9 s\n"
     ]
    }
   ],
   "source": [
    "%%time\n",
    "predict_2_jobs = random_forest.predict(X, n_jobs=2)"
   ]
  },
  {
   "cell_type": "code",
   "execution_count": 19,
   "id": "5fb2a1f6-4179-4fc0-9188-7ca5455cc30e",
   "metadata": {},
   "outputs": [
    {
     "name": "stdout",
     "output_type": "stream",
     "text": [
      "True\n"
     ]
    }
   ],
   "source": [
    "result = all(x == y for x, y in zip(predict_1_job, predict_2_jobs))\n",
    "print(result)"
   ]
  },
  {
   "cell_type": "markdown",
   "id": "48cd2351-95d5-4eec-8d98-d86189a9c694",
   "metadata": {},
   "source": [
    "## AminoAcidSequence/DNASequence/RNASequence"
   ]
  },
  {
   "cell_type": "markdown",
   "id": "6ef12b98-be53-436b-8e12-b5e241826911",
   "metadata": {},
   "source": [
    "##### DNASequence"
   ]
  },
  {
   "cell_type": "code",
   "execution_count": 20,
   "id": "886b5b90-9c69-4dae-a526-fde7a5bb4f95",
   "metadata": {},
   "outputs": [
    {
     "name": "stdout",
     "output_type": "stream",
     "text": [
      "DNA sequence GC-content: 37.5\n",
      "RNA sequence GC-content: 50.0\n"
     ]
    }
   ],
   "source": [
    "dna_sequence = DNASequence(\"ATTTTCGC\", \"DNA\")\n",
    "rna_sequence = RNASequence(\"AUCGUCUC\", \"RNA\")\n",
    "print(f\"DNA sequence GC-content: {dna_sequence.gc_content()}\")\n",
    "print(f\"RNA sequence GC-content: {rna_sequence.gc_content()}\")"
   ]
  },
  {
   "cell_type": "markdown",
   "id": "9d8fda82-6fa6-4987-bca0-f55bc5a5b3c5",
   "metadata": {},
   "source": [
    "##### RNASequence"
   ]
  },
  {
   "cell_type": "code",
   "execution_count": 23,
   "id": "3e692e12-bee1-449d-b1b8-1b93fd4ac84d",
   "metadata": {},
   "outputs": [
    {
     "name": "stdout",
     "output_type": "stream",
     "text": [
      "Protein sequence: MKWRPT*\n"
     ]
    }
   ],
   "source": [
    "rna_sequence = RNASequence(\"AUGAAAUGGCGCCCCACCUAA\", \"RNA\")\n",
    "protein = rna_sequence.translation()\n",
    "print(\"Protein sequence:\", protein)"
   ]
  },
  {
   "cell_type": "markdown",
   "id": "f7a96709-c517-44ff-bb57-20799a6c0ec6",
   "metadata": {},
   "source": [
    "##### AminoAcidSequence"
   ]
  },
  {
   "cell_type": "code",
   "execution_count": 25,
   "id": "d3921047-01c2-4708-b192-08f531af789b",
   "metadata": {},
   "outputs": [
    {
     "name": "stdout",
     "output_type": "stream",
     "text": [
      "Amino Acid hydrophobicity: 54.545%\n"
     ]
    }
   ],
   "source": [
    "amino_acid_sequence = AminoAcidSequence(\"ACGCGIILKLV\", \"protein\")\n",
    "hydrophobicity = amino_acid_sequence.compute_hydrophobicity()\n",
    "print(f\"Amino Acid hydrophobicity: {hydrophobicity}%\")"
   ]
  },
  {
   "cell_type": "markdown",
   "id": "3685ebf0-b50c-4b07-bac6-78a69811adab",
   "metadata": {},
   "source": [
    "## OpenFasta"
   ]
  },
  {
   "cell_type": "code",
   "execution_count": 5,
   "id": "222bf920-da2e-4ee0-bc83-d49239613fa2",
   "metadata": {},
   "outputs": [
    {
     "name": "stdout",
     "output_type": "stream",
     "text": [
      "0123 5S_rRNA NODE_272_length_223_cov_0.720238:18-129(+)\n",
      "ACGGCCATACTTTGAAAGCACCGCATCCCGGACTTCTTTGAAAGCACCGCATCCCTGAAAGCACCGCATCTTTGAAAGCACCGCATCCCCCCGTCCGATC...\n",
      "\n",
      "4567 16S_rRNA NODE_80_length_720_cov_1.094737:313-719(+)\n",
      "TTGGCTTCTTAGAGGGATGCCCTTAGATGTTCTGGGCCGCACGCGCGCTACACTTTGGCTTCTTAGAGGGATGCCCTTAGATGTTCTGGGCCGCACGCGC...\n",
      "\n",
      "1111 16S_rRNA NODE_1_length_2558431_cov_75.185164:2153860-2155398(+)\n",
      "TTGAAGAGCTGTAGCTTAACCTTCGGGAGGGCGAGTCGTAAGGCGGCAGGCCTAACACATGCAAGTCGAACGGTAACAGGAAACAGCGCTGACGAGTGGG...\n",
      "\n",
      "8910 16S_rRNA NODE_1_length_2558431_cov_75.185164:793941-795479(-)\n",
      "TTGAAGAGTTTGATAGGAAACAGCTTGCTGTTTCGCTGACGAGTGGGAAGTAGGTAGGGTAACAAGGTAACCGTAGGGGAACCTGCGGTTGGATCGAAGT...\n",
      "\n",
      "1112 16S_rRNA NODE_4_length_428221_cov_75.638017:281055-282593(-)\n",
      "CAGCTTAACCTTCGGGAGGGCGCTTACCACTTTGTGATTCATGACTGGGGTGAAGTCGTAACAAGGTAACCGTAGGGGAACCTGCGGTTGGATCACCTCC...\n",
      "\n"
     ]
    }
   ],
   "source": [
    "with OpenFasta('data/test.fasta') as fasta_file:\n",
    "    print(fasta_file.read_record())\n",
    "    print(fasta_file.read_record())\n",
    "    print(fasta_file.read_record())\n",
    "    print(fasta_file.read_record())\n",
    "    print(fasta_file.read_record())\n",
    "\n"
   ]
  },
  {
   "cell_type": "code",
   "execution_count": 6,
   "id": "91627fc7-edd1-4aa6-9a53-30cc2cc588f2",
   "metadata": {},
   "outputs": [
    {
     "name": "stdout",
     "output_type": "stream",
     "text": [
      "[0123 5S_rRNA NODE_272_length_223_cov_0.720238:18-129(+)\n",
      "ACGGCCATACTTTGAAAGCACCGCATCCCGGACTTCTTTGAAAGCACCGCATCCCTGAAAGCACCGCATCTTTGAAAGCACCGCATCCCCCCGTCCGATC...\n",
      ", 4567 16S_rRNA NODE_80_length_720_cov_1.094737:313-719(+)\n",
      "TTGGCTTCTTAGAGGGATGCCCTTAGATGTTCTGGGCCGCACGCGCGCTACACTTTGGCTTCTTAGAGGGATGCCCTTAGATGTTCTGGGCCGCACGCGC...\n",
      ", 1111 16S_rRNA NODE_1_length_2558431_cov_75.185164:2153860-2155398(+)\n",
      "TTGAAGAGCTGTAGCTTAACCTTCGGGAGGGCGAGTCGTAAGGCGGCAGGCCTAACACATGCAAGTCGAACGGTAACAGGAAACAGCGCTGACGAGTGGG...\n",
      ", 8910 16S_rRNA NODE_1_length_2558431_cov_75.185164:793941-795479(-)\n",
      "TTGAAGAGTTTGATAGGAAACAGCTTGCTGTTTCGCTGACGAGTGGGAAGTAGGTAGGGTAACAAGGTAACCGTAGGGGAACCTGCGGTTGGATCGAAGT...\n",
      ", 1112 16S_rRNA NODE_4_length_428221_cov_75.638017:281055-282593(-)\n",
      "CAGCTTAACCTTCGGGAGGGCGCTTACCACTTTGTGATTCATGACTGGGGTGAAGTCGTAACAAGGTAACCGTAGGGGAACCTGCGGTTGGATCACCTCC...\n",
      "]\n"
     ]
    }
   ],
   "source": [
    "with OpenFasta('data/test.fasta') as fasta_file:\n",
    "    records = fasta_file.read_records()\n",
    "    print(records)"
   ]
  },
  {
   "cell_type": "markdown",
   "id": "8bf5e418-cd04-49f0-8add-7638dcc44f3f",
   "metadata": {},
   "source": [
    "### Tests"
   ]
  },
  {
   "cell_type": "code",
   "execution_count": 2,
   "id": "b07c4a94-e137-4d23-9ba4-d0421243400a",
   "metadata": {},
   "outputs": [
    {
     "name": "stdout",
     "output_type": "stream",
     "text": [
      "============================= test session starts ==============================\n",
      "platform darwin -- Python 3.8.8, pytest-8.2.0, pluggy-1.5.0\n",
      "rootdir: /Users/nikitazherko/Desktop/BI/learning/Python/class_18\n",
      "plugins: anyio-2.2.0\n",
      "collected 8 items\n",
      "\n",
      "test_bioinformatics_toolbox.py ........                                  [100%]\n",
      "\n",
      "============================== 8 passed in 0.03s ===============================\n"
     ]
    }
   ],
   "source": [
    "%run -m pytest"
   ]
  }
 ],
 "metadata": {
  "kernelspec": {
   "display_name": "Python 3 (ipykernel)",
   "language": "python",
   "name": "python3"
  },
  "language_info": {
   "codemirror_mode": {
    "name": "ipython",
    "version": 3
   },
   "file_extension": ".py",
   "mimetype": "text/x-python",
   "name": "python",
   "nbconvert_exporter": "python",
   "pygments_lexer": "ipython3",
   "version": "3.8.8"
  }
 },
 "nbformat": 4,
 "nbformat_minor": 5
}
